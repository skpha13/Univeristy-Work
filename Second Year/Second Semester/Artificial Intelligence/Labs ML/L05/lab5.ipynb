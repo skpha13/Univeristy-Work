{
 "cells": [
  {
   "cell_type": "code",
   "execution_count": 1,
   "id": "initial_id",
   "metadata": {
    "collapsed": true,
    "ExecuteTime": {
     "end_time": "2024-05-16T09:07:29.250639800Z",
     "start_time": "2024-05-16T09:07:28.694991200Z"
    }
   },
   "outputs": [],
   "source": [
    "import numpy as np\n",
    "from sklearn.utils import shuffle\n",
    "from sklearn.model_selection import KFold, GridSearchCV\n",
    "from sklearn.linear_model import LinearRegression, Ridge, Lasso\n",
    "from sklearn.metrics import mean_squared_error, mean_absolute_error"
   ]
  },
  {
   "cell_type": "markdown",
   "source": [
    "# Data Loading"
   ],
   "metadata": {
    "collapsed": false
   },
   "id": "d0dd73482370e1d8"
  },
  {
   "cell_type": "code",
   "execution_count": 2,
   "outputs": [],
   "source": [
    "training_data = np.load('./data/training_data.npy')\n",
    "prices = np.load('data/prices.npy')"
   ],
   "metadata": {
    "collapsed": false,
    "ExecuteTime": {
     "end_time": "2024-05-16T09:07:36.437036200Z",
     "start_time": "2024-05-16T09:07:36.408316800Z"
    }
   },
   "id": "1ce3ebc10af35f07"
  },
  {
   "cell_type": "markdown",
   "source": [
    "# Data Shuffling"
   ],
   "metadata": {
    "collapsed": false
   },
   "id": "ae449a8b4147853a"
  },
  {
   "cell_type": "code",
   "execution_count": 3,
   "outputs": [
    {
     "data": {
      "text/plain": "array([2.0170e+03, 1.8351e+04, 2.1900e+01, 6.2400e+02, 3.7480e+01,\n       4.0000e+00, 1.0000e+00, 0.0000e+00, 0.0000e+00, 1.0000e+00,\n       0.0000e+00, 0.0000e+00, 0.0000e+00, 1.0000e+00], dtype=float32)"
     },
     "execution_count": 3,
     "metadata": {},
     "output_type": "execute_result"
    }
   ],
   "source": [
    "training_data, prices = shuffle(training_data, prices, random_state=0)\n",
    "training_data[0]"
   ],
   "metadata": {
    "collapsed": false,
    "ExecuteTime": {
     "end_time": "2024-05-16T09:07:38.366180100Z",
     "start_time": "2024-05-16T09:07:38.335094Z"
    }
   },
   "id": "80f5c13ba90093eb"
  },
  {
   "cell_type": "markdown",
   "source": [
    "# Normalization"
   ],
   "metadata": {
    "collapsed": false
   },
   "id": "f8d208b833350914"
  },
  {
   "cell_type": "code",
   "execution_count": 4,
   "outputs": [],
   "source": [
    "def normalization(training_data, testing_data):\n",
    "    std_training = np.std(training_data, axis=0)\n",
    "    # fuel_type and transimission shouldn't be normalized\n",
    "    std_training[7:] = 1\n",
    "    mean = np.mean(training_data)\n",
    "    new_training_data = np.divide(training_data - mean, std_training)\n",
    "\n",
    "    new_testing_data = np.divide(testing_data - mean, std_training)\n",
    "    \n",
    "    return new_training_data, new_testing_data"
   ],
   "metadata": {
    "collapsed": false,
    "ExecuteTime": {
     "end_time": "2024-05-16T09:08:05.007168600Z",
     "start_time": "2024-05-16T09:08:04.996475Z"
    }
   },
   "id": "301f66d2282e30aa"
  },
  {
   "cell_type": "markdown",
   "source": [
    "# Model"
   ],
   "metadata": {
    "collapsed": false
   },
   "id": "39a99f2a1e726388"
  },
  {
   "cell_type": "code",
   "execution_count": 5,
   "outputs": [],
   "source": [
    "class Model:\n",
    "    def __init__(self, model):\n",
    "        self.model = model\n",
    "    \n",
    "    def fit(self, train, test):\n",
    "        self.model.fit(train, test)\n",
    "        \n",
    "    def predict(self, test):\n",
    "        return self.model.predict(test)\n",
    "    \n",
    "    def accuracy(self, true, predict):\n",
    "        return mean_squared_error(true, predict), mean_absolute_error(true, predict)\n",
    "    \n",
    "    def tune(self, train, test):\n",
    "        param_grid = {\n",
    "            'alpha': [1, 10, 100, 1000]\n",
    "        }\n",
    "        \n",
    "        grid_search = GridSearchCV(estimator=self.model, param_grid=param_grid, cv=5, scoring='neg_mean_absolute_error')\n",
    "        grid_search.fit(train, test)\n",
    "        \n",
    "        return grid_search.best_params_['alpha']\n",
    "    \n",
    "    def getCoefficients(self):\n",
    "        return self.model.coef_\n",
    "    \n",
    "    def getBias(self):\n",
    "        return self.model.intercept_\n",
    "    \n",
    "    def mostSignificantFeature(self):\n",
    "        features = [\n",
    "            'Year', 'Killometers_Driven', 'Mileage',\n",
    "            'Engine', 'Power', 'Seats', 'Owner_Type',\n",
    "            'FuelType', 'FuelType', 'FuelType', 'FuelType', 'FuelType',\n",
    "            'Transmission', 'Transmission'\n",
    "        ]\n",
    "        coefficients = np.abs(self.getCoefficients())\n",
    "        \n",
    "        most_significant_index = np.argmax(coefficients)\n",
    "        \n",
    "        most_significant = features[most_significant_index]\n",
    "        \n",
    "        return most_significant\n",
    "\n",
    "    def leastSignificantFeature(self):\n",
    "        features = [\n",
    "            'Year', 'Killometers_Driven', 'Mileage',\n",
    "            'Engine', 'Power', 'Seats', 'Owner_Type',\n",
    "            'FuelType', 'FuelType', 'FuelType', 'FuelType', 'FuelType',\n",
    "            'Transmission', 'Transmission'\n",
    "        ]\n",
    "        coefficients = np.abs(self.getCoefficients())\n",
    "\n",
    "        least_significant_index = np.argmin(coefficients)\n",
    "\n",
    "        least_significant = features[least_significant_index]\n",
    "\n",
    "        return least_significant"
   ],
   "metadata": {
    "collapsed": false,
    "ExecuteTime": {
     "end_time": "2024-05-16T09:08:06.363198200Z",
     "start_time": "2024-05-16T09:08:06.357150500Z"
    }
   },
   "id": "82391f7808d1ff7a"
  },
  {
   "cell_type": "markdown",
   "source": [
    "# Split \n",
    "- Method: KFold with 3 splits\n",
    "- Model: LinearRegression"
   ],
   "metadata": {
    "collapsed": false
   },
   "id": "7c323ddf1ce52f93"
  },
  {
   "cell_type": "code",
   "execution_count": 6,
   "outputs": [],
   "source": [
    "def train_test_model(model_type):\n",
    "    kf = KFold(n_splits=3)\n",
    "    model = Model(model_type)\n",
    "    accuracy = []\n",
    "    alpha = []\n",
    "    \n",
    "    for train_index, test_index in kf.split(training_data):\n",
    "        X_train, X_test = training_data[train_index], training_data[test_index]\n",
    "        Y_train, Y_test = prices[train_index], prices[test_index] \n",
    "        \n",
    "        X_train, X_test = normalization(X_train, X_test)\n",
    "        \n",
    "        model.fit(X_train, Y_train)\n",
    "        accuracy.append([*model.accuracy(Y_test, model.predict(X_test))])\n",
    "    \n",
    "        if isinstance(model.model, Ridge):\n",
    "            alpha.append(model.tune(X_train, Y_train))\n",
    "            \n",
    "    if isinstance(model.model, Ridge):\n",
    "        print(f\"BEST ALPHA: {np.mean(np.array(alpha))}\")\n",
    "        \n",
    "    return np.array(accuracy)"
   ],
   "metadata": {
    "collapsed": false,
    "ExecuteTime": {
     "end_time": "2024-05-16T09:08:08.814123200Z",
     "start_time": "2024-05-16T09:08:08.809040400Z"
    }
   },
   "id": "34cfce0e6a5a7e4e"
  },
  {
   "cell_type": "code",
   "execution_count": 7,
   "outputs": [
    {
     "name": "stdout",
     "output_type": "stream",
     "text": [
      "LINEAR\n",
      "\tAVERAGE MSE: 3.17\n",
      "\tAVERAGE MAE: 1.32\n",
      "\n",
      "BEST ALPHA: 100.0\n",
      "RIDGE\n",
      "\tAVERAGE MSE: 3.17\n",
      "\tAVERAGE MAE: 1.32\n",
      "\n",
      "LASSO\n",
      "\tAVERAGE MSE: 6.22\n",
      "\tAVERAGE MAE: 1.92\n"
     ]
    }
   ],
   "source": [
    "# Linear Regression\n",
    "mean_mse, mean_mae = np.mean(train_test_model(LinearRegression()), axis=0)\n",
    "print(f\"LINEAR\\n\\tAVERAGE MSE: {mean_mse:.2f}\\n\\tAVERAGE MAE: {mean_mae:.2f}\", end=\"\\n\\n\")\n",
    "\n",
    "# Ridge Regression\n",
    "mean_mse, mean_mae = np.mean(train_test_model(Ridge()), axis=0)\n",
    "print(f\"RIDGE\\n\\tAVERAGE MSE: {mean_mse:.2f}\\n\\tAVERAGE MAE: {mean_mae:.2f}\", end=\"\\n\\n\")\n",
    "\n",
    "# Lasso Regression\n",
    "mean_mse, mean_mae = np.mean(train_test_model(Lasso()), axis=0)\n",
    "print(f\"LASSO\\n\\tAVERAGE MSE: {mean_mse:.2f}\\n\\tAVERAGE MAE: {mean_mae:.2f}\", end=\"\\n\\n\")"
   ],
   "metadata": {
    "collapsed": false,
    "ExecuteTime": {
     "end_time": "2024-05-16T09:08:10.303235Z",
     "start_time": "2024-05-16T09:08:10.167851100Z"
    }
   },
   "id": "508efd7bde6ad523"
  },
  {
   "cell_type": "markdown",
   "source": [
    "# Coefficient and Bias"
   ],
   "metadata": {
    "collapsed": false
   },
   "id": "4b4ef3aa696229ce"
  },
  {
   "cell_type": "code",
   "execution_count": 8,
   "outputs": [
    {
     "name": "stdout",
     "output_type": "stream",
     "text": [
      "COFFICIENTS: [ 5.15551627e-01 -3.74514866e-06 -1.01766974e-01  9.83963604e-04\n",
      "  3.80781442e-02  1.65120900e-01 -1.68956667e-01  0.00000000e+00\n",
      "  6.68236494e-01 -6.68236554e-01  0.00000000e+00  0.00000000e+00\n",
      " -5.44795752e-01  5.44793844e-01]\n",
      "BIAS: -1035.5355224609375\n"
     ]
    },
    {
     "name": "stderr",
     "output_type": "stream",
     "text": [
      "C:\\Users\\mal13\\AppData\\Local\\Packages\\PythonSoftwareFoundation.Python.3.11_qbz5n2kfra8p0\\LocalCache\\local-packages\\Python311\\site-packages\\sklearn\\linear_model\\_ridge.py:204: LinAlgWarning: Ill-conditioned matrix (rcond=1.29191e-11): result may not be accurate.\n",
      "  return linalg.solve(A, Xy, assume_a=\"pos\", overwrite_a=True).T\n"
     ]
    }
   ],
   "source": [
    "model = Model(Ridge(alpha=100))\n",
    "model.fit(training_data, prices)\n",
    "\n",
    "print(f\"COFFICIENTS: {model.getCoefficients()}\\nBIAS: {model.getBias()}\")"
   ],
   "metadata": {
    "collapsed": false,
    "ExecuteTime": {
     "end_time": "2024-05-16T09:08:18.152996100Z",
     "start_time": "2024-05-16T09:08:18.127652400Z"
    }
   },
   "id": "614abb4e553107d6"
  },
  {
   "cell_type": "markdown",
   "source": [
    "# Most and Least Significant Feature"
   ],
   "metadata": {
    "collapsed": false
   },
   "id": "d407178048643982"
  },
  {
   "cell_type": "code",
   "execution_count": 9,
   "outputs": [
    {
     "name": "stdout",
     "output_type": "stream",
     "text": [
      "MOST: FuelType\n",
      "LEAST: FuelType\n"
     ]
    }
   ],
   "source": [
    "most_significant = model.mostSignificantFeature()\n",
    "least_significant = model.leastSignificantFeature()\n",
    "\n",
    "print(f\"MOST: {most_significant}\\nLEAST: {least_significant}\")"
   ],
   "metadata": {
    "collapsed": false,
    "ExecuteTime": {
     "end_time": "2024-05-16T09:08:23.598970800Z",
     "start_time": "2024-05-16T09:08:23.585428900Z"
    }
   },
   "id": "18cd9a4fcad1df18"
  }
 ],
 "metadata": {
  "kernelspec": {
   "display_name": "Python 3",
   "language": "python",
   "name": "python3"
  },
  "language_info": {
   "codemirror_mode": {
    "name": "ipython",
    "version": 2
   },
   "file_extension": ".py",
   "mimetype": "text/x-python",
   "name": "python",
   "nbconvert_exporter": "python",
   "pygments_lexer": "ipython2",
   "version": "2.7.6"
  }
 },
 "nbformat": 4,
 "nbformat_minor": 5
}
