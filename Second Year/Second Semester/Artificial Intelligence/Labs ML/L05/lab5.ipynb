{
 "cells": [
  {
   "cell_type": "code",
   "execution_count": 21,
   "id": "initial_id",
   "metadata": {
    "collapsed": true,
    "ExecuteTime": {
     "end_time": "2024-05-15T06:33:29.464477600Z",
     "start_time": "2024-05-15T06:33:28.926587600Z"
    }
   },
   "outputs": [],
   "source": [
    "import numpy as np\n",
    "from sklearn.utils import shuffle\n",
    "from sklearn.model_selection import train_test_split"
   ]
  },
  {
   "cell_type": "code",
   "execution_count": 18,
   "outputs": [],
   "source": [
    "training_data = np.load('./data/training_data.npy')\n",
    "prices = np.load('data/prices.npy')"
   ],
   "metadata": {
    "collapsed": false,
    "ExecuteTime": {
     "end_time": "2024-05-15T06:30:29.818376100Z",
     "start_time": "2024-05-15T06:30:29.808329Z"
    }
   },
   "id": "1ce3ebc10af35f07"
  },
  {
   "cell_type": "code",
   "execution_count": 19,
   "outputs": [],
   "source": [
    "training_data, prices = shuffle(training_data, prices, random_state=0)"
   ],
   "metadata": {
    "collapsed": false,
    "ExecuteTime": {
     "end_time": "2024-05-15T06:30:30.633438700Z",
     "start_time": "2024-05-15T06:30:30.624749Z"
    }
   },
   "id": "80f5c13ba90093eb"
  },
  {
   "cell_type": "code",
   "execution_count": 26,
   "outputs": [
    {
     "data": {
      "text/plain": "array([2.0170e+03, 1.8351e+04, 2.1900e+01, 6.2400e+02, 3.7480e+01,\n       4.0000e+00, 1.0000e+00, 0.0000e+00, 0.0000e+00, 1.0000e+00,\n       0.0000e+00, 0.0000e+00, 0.0000e+00, 1.0000e+00], dtype=float32)"
     },
     "execution_count": 26,
     "metadata": {},
     "output_type": "execute_result"
    }
   ],
   "source": [
    "training_data[0]"
   ],
   "metadata": {
    "collapsed": false,
    "ExecuteTime": {
     "end_time": "2024-05-15T06:34:54.683308400Z",
     "start_time": "2024-05-15T06:34:54.671613700Z"
    }
   },
   "id": "9bb1b9faf2f48c12"
  },
  {
   "cell_type": "code",
   "execution_count": 66,
   "outputs": [],
   "source": [
    "def normalization(training_data, testing_data):\n",
    "    mean_training_data = np.mean(training_data, axis=0)\n",
    "    standard_deviation = np.sqrt(np.mean(np.power(training_data - mean_training_data, 2)))\n",
    "    new_training_data = np.divide(training_data, standard_deviation)\n",
    "    \n",
    "    mean_testing_data = np.mean(testing_data, axis=0)\n",
    "    standard_deviation_testing = np.sqrt(np.mean(np.power(testing_data - mean_testing_data, 2)))\n",
    "    new_testing_data = np.divide(testing_data, standard_deviation_testing)\n",
    "    \n",
    "    return new_training_data, new_testing_data"
   ],
   "metadata": {
    "collapsed": false,
    "ExecuteTime": {
     "end_time": "2024-05-15T06:49:08.941446200Z",
     "start_time": "2024-05-15T06:49:08.929963100Z"
    }
   },
   "id": "301f66d2282e30aa"
  },
  {
   "cell_type": "code",
   "execution_count": 67,
   "outputs": [],
   "source": [
    "new_training_data, new_prices = normalization(training_data, prices)\n",
    "X_train, X_test, y_train, y_test = train_test_split(\n",
    "    new_training_data, new_prices, test_size=0.2\n",
    ")"
   ],
   "metadata": {
    "collapsed": false,
    "ExecuteTime": {
     "end_time": "2024-05-15T06:49:09.679066500Z",
     "start_time": "2024-05-15T06:49:09.669202400Z"
    }
   },
   "id": "eea39706eb5cefca"
  },
  {
   "cell_type": "code",
   "execution_count": 68,
   "outputs": [
    {
     "name": "stdout",
     "output_type": "stream",
     "text": [
      "[1.9108790e-01 8.1718349e+00 1.9346345e-03 1.1374054e-01 7.4971835e-03\n",
      " 4.7510667e-04 9.5021336e-05 0.0000000e+00 0.0000000e+00 9.5021336e-05\n",
      " 0.0000000e+00 0.0000000e+00 9.5021336e-05 0.0000000e+00]\n"
     ]
    }
   ],
   "source": [
    "print(X_train[0])"
   ],
   "metadata": {
    "collapsed": false,
    "ExecuteTime": {
     "end_time": "2024-05-15T06:49:11.794500900Z",
     "start_time": "2024-05-15T06:49:11.782296400Z"
    }
   },
   "id": "82391f7808d1ff7a"
  }
 ],
 "metadata": {
  "kernelspec": {
   "display_name": "Python 3",
   "language": "python",
   "name": "python3"
  },
  "language_info": {
   "codemirror_mode": {
    "name": "ipython",
    "version": 2
   },
   "file_extension": ".py",
   "mimetype": "text/x-python",
   "name": "python",
   "nbconvert_exporter": "python",
   "pygments_lexer": "ipython2",
   "version": "2.7.6"
  }
 },
 "nbformat": 4,
 "nbformat_minor": 5
}
