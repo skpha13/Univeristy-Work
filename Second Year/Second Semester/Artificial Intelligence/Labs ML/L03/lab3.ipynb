{
 "cells": [
  {
   "cell_type": "code",
   "execution_count": 13,
   "id": "initial_id",
   "metadata": {
    "collapsed": true,
    "ExecuteTime": {
     "end_time": "2024-05-15T05:13:41.179107800Z",
     "start_time": "2024-05-15T05:13:41.166693300Z"
    }
   },
   "outputs": [],
   "source": [
    "import numpy as np\n",
    "import matplotlib.pyplot as plt\n",
    "from sklearn.neighbors import KNeighborsClassifier"
   ]
  },
  {
   "cell_type": "code",
   "execution_count": 9,
   "outputs": [],
   "source": [
    "converter = lambda x: int(float(x))\n",
    "\n",
    "train_images = np.loadtxt('data/train_images.txt')\n",
    "train_labels = np.loadtxt('data/train_labels.txt', 'int', converters={0: converter})\n",
    "test_images = np.loadtxt('data/test_images.txt')\n",
    "test_labels = np.loadtxt('data/test_labels.txt', 'int', converters={0: converter})"
   ],
   "metadata": {
    "collapsed": false,
    "ExecuteTime": {
     "end_time": "2024-05-15T05:08:58.203285200Z",
     "start_time": "2024-05-15T05:08:57.782053200Z"
    }
   },
   "id": "196362c48bff1325"
  },
  {
   "cell_type": "code",
   "execution_count": 10,
   "outputs": [],
   "source": [
    "num_bins = 8\n",
    "bins = np.linspace(start=0, stop=256, num=num_bins)\n",
    "def values_to_bins(matrix, capete_interval):\n",
    "    return np.subtract(np.digitize(matrix, capete_interval), 1)\n",
    "\n",
    "train_images_binned = values_to_bins(train_images, bins)\n",
    "test_images_binned = values_to_bins(test_images, bins)"
   ],
   "metadata": {
    "collapsed": false,
    "ExecuteTime": {
     "end_time": "2024-05-15T05:08:58.977075500Z",
     "start_time": "2024-05-15T05:08:58.945872500Z"
    }
   },
   "id": "798115177a51f842"
  },
  {
   "cell_type": "code",
   "execution_count": 46,
   "outputs": [
    {
     "name": "stdout",
     "output_type": "stream",
     "text": [
      "0.923\n"
     ]
    }
   ],
   "source": [
    "class KnnClassifier:\n",
    "    def __init__(self, train_images, train_labels):\n",
    "        self.train_images = train_images\n",
    "        self.train_labels = train_labels\n",
    "        \n",
    "    def classify_image(self, test_image, num_neighbors=3, metric='minkowski', p=1):\n",
    "        distances = np.power(np.sum(np.power(np.abs(self.train_images - test_image), p), axis=1), 1/p)\n",
    "        \n",
    "        nearest_labels = self.train_labels[np.argsort(distances)[:num_neighbors]]\n",
    "        \n",
    "        unique, counts = np.unique(nearest_labels, return_counts=True)\n",
    "        return unique[np.argmax(counts)]      \n",
    "    \n",
    "    def classify_images(self, num_neighbors=3, p=2):\n",
    "        predictions = []\n",
    "        for image in self.train_images:\n",
    "            label = self.classify_image(image, num_neighbors, p=p)\n",
    "            predictions.append(label)\n",
    "            \n",
    "        return np.array(predictions)\n",
    "\n",
    "from sklearn.metrics import accuracy_score\n",
    "knn = KnnClassifier(train_images_binned, train_labels)\n",
    "neighbours = knn.classify_image(test_image=test_images[0])\n",
    "predictions = knn.classify_images()\n",
    "print(accuracy_score(knn.train_labels, predictions))"
   ],
   "metadata": {
    "collapsed": false,
    "ExecuteTime": {
     "end_time": "2024-05-15T06:17:11.996095100Z",
     "start_time": "2024-05-15T06:16:56.238705300Z"
    }
   },
   "id": "22592f9816fb1e7"
  },
  {
   "cell_type": "code",
   "execution_count": 48,
   "outputs": [
    {
     "name": "stdout",
     "output_type": "stream",
     "text": [
      "0.898\n"
     ]
    }
   ],
   "source": [
    "from sklearn.neighbors import KNeighborsClassifier\n",
    "model = KNeighborsClassifier(n_neighbors=3)\n",
    "model.fit(train_images, train_labels)\n",
    "model_predictions = model.predict(test_images)\n",
    "print(accuracy_score(test_labels, model_predictions))"
   ],
   "metadata": {
    "collapsed": false,
    "ExecuteTime": {
     "end_time": "2024-05-15T06:18:21.356566Z",
     "start_time": "2024-05-15T06:18:20.994226400Z"
    }
   },
   "id": "48fa3a5abf5f5e6e"
  }
 ],
 "metadata": {
  "kernelspec": {
   "display_name": "Python 3",
   "language": "python",
   "name": "python3"
  },
  "language_info": {
   "codemirror_mode": {
    "name": "ipython",
    "version": 2
   },
   "file_extension": ".py",
   "mimetype": "text/x-python",
   "name": "python",
   "nbconvert_exporter": "python",
   "pygments_lexer": "ipython2",
   "version": "2.7.6"
  }
 },
 "nbformat": 4,
 "nbformat_minor": 5
}
