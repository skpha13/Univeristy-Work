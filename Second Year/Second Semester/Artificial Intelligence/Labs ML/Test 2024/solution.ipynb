{
 "cells": [
  {
   "cell_type": "markdown",
   "source": [
    "## Imports"
   ],
   "metadata": {
    "collapsed": false
   },
   "id": "704f5e9562547acf"
  },
  {
   "cell_type": "code",
   "execution_count": 1,
   "id": "initial_id",
   "metadata": {
    "collapsed": true,
    "ExecuteTime": {
     "end_time": "2024-06-08T08:39:41.228726400Z",
     "start_time": "2024-06-08T08:39:40.337152400Z"
    }
   },
   "outputs": [],
   "source": [
    "from sklearn.neural_network import MLPClassifier\n",
    "import numpy as np\n",
    "from sklearn.preprocessing import MinMaxScaler\n",
    "from sklearn.metrics import accuracy_score\n",
    "from sklearn.utils import shuffle\n",
    "from sklearn.model_selection import train_test_split"
   ]
  },
  {
   "cell_type": "markdown",
   "source": [
    "## Data Loading"
   ],
   "metadata": {
    "collapsed": false
   },
   "id": "70a418a4a59d1b51"
  },
  {
   "cell_type": "code",
   "execution_count": 2,
   "outputs": [
    {
     "name": "stdout",
     "output_type": "stream",
     "text": [
      "154\n",
      "(1000, 154, 3)\n",
      "(1000,)\n",
      "(400, 154, 3)\n"
     ]
    }
   ],
   "source": [
    "trainX = []\n",
    "trainY = []\n",
    "testX = []\n",
    "testX_files = []\n",
    "test_labels = []\n",
    "\n",
    "with open(\"./data/train.txt\") as train_file:\n",
    "    # get rid of first row\n",
    "    line = train_file.readline()\n",
    "    line = train_file.readline()\n",
    "    \n",
    "    while line:\n",
    "        file, label = line.strip().split(\",\")\n",
    "        \n",
    "        trainY.append(int(label))\n",
    "        temp_arr = []\n",
    "        \n",
    "        with open(f\"./data/{file}\") as f:\n",
    "            line_file = f.readline()\n",
    "            \n",
    "            while line_file:\n",
    "                arr = np.asarray([np.float32(x) for x in  line_file.strip().split(\",\")])\n",
    "                \n",
    "                if arr.shape != (3,):\n",
    "                    print(arr.shape)\n",
    "                \n",
    "                temp_arr.append(arr)\n",
    "                line_file = f.readline()\n",
    "\n",
    "        while len(temp_arr) != 154:\n",
    "            temp_arr.append(temp_arr[-1])\n",
    "                \n",
    "        trainX.append(temp_arr)\n",
    "        line = train_file.readline()\n",
    "\n",
    "with open(\"./data/test.txt\") as test_file:\n",
    "    # get rid of first row\n",
    "    line = test_file.readline().strip()\n",
    "    line = test_file.readline().strip()\n",
    "    while line:\n",
    "        file = line\n",
    "        temp_arr = []\n",
    "        testX_files.append(file)\n",
    "\n",
    "        with open(f\"./data/{file}\") as f:\n",
    "            line_file = f.readline()\n",
    "\n",
    "            while line_file:\n",
    "                arr = np.asarray([np.float32(x) for x in  line_file.strip().split(\",\")])\n",
    "                \n",
    "                temp_arr.append(arr)\n",
    "                line_file = f.readline()\n",
    "                \n",
    "        while len(temp_arr) != 154:\n",
    "            temp_arr.append(temp_arr[-1])\n",
    "\n",
    "        testX.append(temp_arr)\n",
    "        line = test_file.readline().strip()\n",
    "\n",
    "with open(\"./data/test_labels.txt\") as test_file:\n",
    "    # get rid of first row\n",
    "    line = test_file.readline()\n",
    "    line = test_file.readline()\n",
    "\n",
    "    while line:\n",
    "        file, label = line.strip().split(\",\")\n",
    "\n",
    "        test_labels.append(int(label))\n",
    "        line = test_file.readline()\n",
    "\n",
    "sizes = []    \n",
    "for it in trainX:\n",
    "    sizes.append(len(it))\n",
    "\n",
    "print(max(sizes))\n",
    "\n",
    "trainX = np.array(trainX)\n",
    "trainY = np.array(trainY)\n",
    "testX = np.array(testX)\n",
    "\n",
    "print(trainX.shape)\n",
    "print(trainY.shape)\n",
    "print(testX.shape)"
   ],
   "metadata": {
    "collapsed": false,
    "ExecuteTime": {
     "end_time": "2024-06-08T08:39:49.332758500Z",
     "start_time": "2024-06-08T08:39:46.967291400Z"
    }
   },
   "id": "c2223e42e0332b04"
  },
  {
   "cell_type": "markdown",
   "source": [
    "## Data Processing"
   ],
   "metadata": {
    "collapsed": false
   },
   "id": "4ab458f4f4541c68"
  },
  {
   "cell_type": "code",
   "execution_count": 3,
   "outputs": [
    {
     "name": "stdout",
     "output_type": "stream",
     "text": [
      "(1000, 462)\n",
      "(400, 462)\n",
      "[0.6766908  0.49578932 0.34297347]\n"
     ]
    }
   ],
   "source": [
    "scaler = MinMaxScaler()\n",
    "trainX_flattened = np.array([x.flatten() for x in trainX])\n",
    "testX_flattened = np.array([x.flatten() for x in testX])\n",
    "\n",
    "print(trainX_flattened.shape)\n",
    "print(testX_flattened.shape)\n",
    "\n",
    "trainX_preproccesed = scaler.fit_transform(trainX_flattened)\n",
    "testX_preproccesed = scaler.transform(testX_flattened)\n",
    "\n",
    "print(trainX_preproccesed[0][:3])"
   ],
   "metadata": {
    "collapsed": false,
    "ExecuteTime": {
     "end_time": "2024-06-08T08:39:53.692484700Z",
     "start_time": "2024-06-08T08:39:53.642435600Z"
    }
   },
   "id": "2f6c58dfb7b550d0"
  },
  {
   "cell_type": "markdown",
   "source": [
    "## Data Preparation"
   ],
   "metadata": {
    "collapsed": false
   },
   "id": "ff8e85e81107c7b1"
  },
  {
   "cell_type": "code",
   "execution_count": 4,
   "outputs": [],
   "source": [
    "X_train_prep, X_test_prep = shuffle(trainX_preproccesed, trainY)\n",
    "\n",
    "X_train, X_test, y_train, y_test = train_test_split(X_train_prep, X_test_prep, test_size=0.25)"
   ],
   "metadata": {
    "collapsed": false,
    "ExecuteTime": {
     "end_time": "2024-06-08T08:39:56.254292100Z",
     "start_time": "2024-06-08T08:39:56.221440900Z"
    }
   },
   "id": "47bad4ece4cbc696"
  },
  {
   "cell_type": "markdown",
   "source": [
    "## MLP Classifier"
   ],
   "metadata": {
    "collapsed": false
   },
   "id": "ce10d765f86ef544"
  },
  {
   "cell_type": "code",
   "execution_count": 5,
   "outputs": [
    {
     "name": "stdout",
     "output_type": "stream",
     "text": [
      "0.868\n"
     ]
    },
    {
     "name": "stderr",
     "output_type": "stream",
     "text": [
      "C:\\Users\\mal13\\AppData\\Local\\Packages\\PythonSoftwareFoundation.Python.3.11_qbz5n2kfra8p0\\LocalCache\\local-packages\\Python311\\site-packages\\sklearn\\neural_network\\_multilayer_perceptron.py:691: ConvergenceWarning: Stochastic Optimizer: Maximum iterations (200) reached and the optimization hasn't converged yet.\n",
      "  warnings.warn(\n"
     ]
    }
   ],
   "source": [
    "mlp = MLPClassifier(activation='relu')\n",
    "mlp.fit(X_train, y_train)\n",
    "predictions = mlp.predict(X_test)\n",
    "accuracy = accuracy_score(y_test, predictions)\n",
    "print(accuracy)"
   ],
   "metadata": {
    "collapsed": false,
    "ExecuteTime": {
     "end_time": "2024-06-08T08:39:58.531004200Z",
     "start_time": "2024-06-08T08:39:57.274307600Z"
    }
   },
   "id": "d0b17df4713d5b06"
  },
  {
   "cell_type": "markdown",
   "source": [
    "## Final Submission"
   ],
   "metadata": {
    "collapsed": false
   },
   "id": "6c3b6c650d88165"
  },
  {
   "cell_type": "code",
   "execution_count": 6,
   "outputs": [
    {
     "name": "stdout",
     "output_type": "stream",
     "text": [
      "[1 1 0 0 0 3 2 2 1 3]\n"
     ]
    },
    {
     "name": "stderr",
     "output_type": "stream",
     "text": [
      "C:\\Users\\mal13\\AppData\\Local\\Packages\\PythonSoftwareFoundation.Python.3.11_qbz5n2kfra8p0\\LocalCache\\local-packages\\Python311\\site-packages\\sklearn\\neural_network\\_multilayer_perceptron.py:691: ConvergenceWarning: Stochastic Optimizer: Maximum iterations (200) reached and the optimization hasn't converged yet.\n",
      "  warnings.warn(\n"
     ]
    }
   ],
   "source": [
    "mlp.fit(X_train_prep, X_test_prep)\n",
    "test_predictions = mlp.predict(testX_preproccesed)\n",
    "print(test_predictions[:10])"
   ],
   "metadata": {
    "collapsed": false,
    "ExecuteTime": {
     "end_time": "2024-06-08T08:40:01.689408700Z",
     "start_time": "2024-06-08T08:40:00.126347700Z"
    }
   },
   "id": "d55e01cf0d24f35d"
  },
  {
   "cell_type": "markdown",
   "source": [
    "## Output"
   ],
   "metadata": {
    "collapsed": false
   },
   "id": "d10cc3f3a33effe"
  },
  {
   "cell_type": "code",
   "execution_count": 7,
   "outputs": [
    {
     "name": "stdout",
     "output_type": "stream",
     "text": [
      "0.925\n"
     ]
    }
   ],
   "source": [
    "accuracy_test = accuracy_score(test_labels, test_predictions)\n",
    "print(accuracy_test)"
   ],
   "metadata": {
    "collapsed": false,
    "ExecuteTime": {
     "end_time": "2024-06-08T08:40:03.401625Z",
     "start_time": "2024-06-08T08:40:03.386224600Z"
    }
   },
   "id": "ea39b6866fac1d9f"
  },
  {
   "cell_type": "code",
   "execution_count": 72,
   "outputs": [
    {
     "name": "stdout",
     "output_type": "stream",
     "text": [
      "400\n",
      "400\n"
     ]
    }
   ],
   "source": [
    "print(len(test_predictions))\n",
    "print(len(testX_files))\n",
    "with open(f\"./Mincu_Adrian-Lucian_232_subiect1_solutia_1.txt\", \"w\") as g:\n",
    "    g.write(f\"filename,label\\n\")\n",
    "    for i in range(len(test_predictions)):\n",
    "        g.write(f\"{testX_files[i]},{test_predictions[i]}\\n\")"
   ],
   "metadata": {
    "collapsed": false,
    "ExecuteTime": {
     "end_time": "2024-06-08T08:27:32.965415200Z",
     "start_time": "2024-06-08T08:27:32.936524200Z"
    }
   },
   "id": "421ba3327191f8be"
  }
 ],
 "metadata": {
  "kernelspec": {
   "display_name": "Python 3",
   "language": "python",
   "name": "python3"
  },
  "language_info": {
   "codemirror_mode": {
    "name": "ipython",
    "version": 2
   },
   "file_extension": ".py",
   "mimetype": "text/x-python",
   "name": "python",
   "nbconvert_exporter": "python",
   "pygments_lexer": "ipython2",
   "version": "2.7.6"
  }
 },
 "nbformat": 4,
 "nbformat_minor": 5
}
